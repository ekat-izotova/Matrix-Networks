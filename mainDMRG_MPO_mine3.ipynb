{
 "cells": [
  {
   "cell_type": "markdown",
   "metadata": {},
   "source": [
    "PARTLY TAKEN FROM https://www.tensors.net/p-dmrg"
   ]
  },
  {
   "cell_type": "code",
   "execution_count": 1,
   "metadata": {},
   "outputs": [],
   "source": [
    "# -*- coding: utf-8 -*-\n",
    "\"\"\"\n",
    "mainDMRG_MPO.py\n",
    "---------------------------------------------------------------------\n",
    "Script file for initializing the Hamiltonian of a 1D spin chain as an MPO \\\n",
    "before passing to the DMRG routine.\n",
    "\n",
    "    by Glen Evenbly (c) for www.tensors.net, (v1.1) - last modified 19/1/2019\n",
    "\"\"\"\n",
    "\n",
    "#### Preamble\n",
    "import numpy as np\n",
    "from scipy import linalg as LA\n",
    "import matplotlib.pyplot as plt\n",
    "\n",
    "#from ncon import ncon\n",
    "from tensornetwork.ncon_interface import ncon\n",
    "from doDMRG_MPO_mine import doDMRG_MPO\n",
    "\n",
    "import tensornetwork as tn\n",
    "import math\n",
    "from numpy import *"
   ]
  },
  {
   "cell_type": "code",
   "execution_count": 2,
   "metadata": {},
   "outputs": [],
   "source": [
    "def createMPS(num):    \n",
    "    c=[]\n",
    "    for i in range(N):\n",
    "        c.append(tn.Node(num[i]))\n",
    "    for i in range(N-1):\n",
    "        c[i][2] ^ c[i+1][0]\n",
    "    return c"
   ]
  },
  {
   "cell_type": "code",
   "execution_count": 3,
   "metadata": {},
   "outputs": [],
   "source": [
    "def conjMPS(mps):\n",
    "    c=[]\n",
    "    for i in range(N):\n",
    "        c.append(tn.conj(mps[i]))\n",
    "    for i in range(1,N-1):\n",
    "        c[i][2] ^ c[i+1][0]\n",
    "    return c"
   ]
  },
  {
   "cell_type": "code",
   "execution_count": 4,
   "metadata": {},
   "outputs": [],
   "source": [
    "def rightcollapsePsiPsi(mps1,mps2,l):\n",
    "    node = mps1[N-1] @ mps2[N-1]\n",
    "    for i in range(N-2,l-1,-1):\n",
    "        node = mps1[i] @ node\n",
    "        node = node @ mps2[i]\n",
    "    return node.tensor"
   ]
  },
  {
   "cell_type": "code",
   "execution_count": 5,
   "metadata": {},
   "outputs": [],
   "source": [
    "def getrhoin(num,k):\n",
    "    mps2 = createMPS(num)\n",
    "    mps1 = conjMPS(mps2)\n",
    "    for i in range(N):\n",
    "        mps1[i][1] ^ mps2[i][1]\n",
    "    tensor4 = rightcollapsePsiPsi(mps1,mps2,k+1)\n",
    "    if k==N-2:\n",
    "        matrix = tensor4[:,0,:,0]\n",
    "    else:\n",
    "        matrix = tensor4[:,0,0,:]\n",
    "    return matrix"
   ]
  },
  {
   "cell_type": "code",
   "execution_count": 6,
   "metadata": {},
   "outputs": [],
   "source": [
    "def calcEntrdiag(rhoin):\n",
    "    diagrhoin = np.diag(np.diag(rhoin))\n",
    "    lndiagrhoin = LA.logm(diagrhoin)\n",
    "    entr = -np.trace(np.dot(diagrhoin,lndiagrhoin))\n",
    "    return entr"
   ]
  },
  {
   "cell_type": "code",
   "execution_count": 7,
   "metadata": {},
   "outputs": [],
   "source": [
    "def calcEntrsing(rhoin):\n",
    "    u,s,vh = LA.svd(rhoin, full_matrices=False)\n",
    "    smatrix = np.diag(s)\n",
    "    lnsmatrix = LA.logm(smatrix)\n",
    "    entr = -np.trace(np.dot(smatrix,lnsmatrix))\n",
    "    return entr"
   ]
  },
  {
   "cell_type": "code",
   "execution_count": 8,
   "metadata": {},
   "outputs": [],
   "source": [
    "def calcEntrsvd(num):\n",
    "    mps=createMPS(A)\n",
    "    node = mps[0]\n",
    "    for i in range(1,N):\n",
    "        node = node @ mps[i]\n",
    "    psi = node.tensor\n",
    "    entr = []\n",
    "    for k in range(1,N):\n",
    "        psi = psi.reshape((chid**k,chid**(N-k)))\n",
    "        u,s,vh = LA.svd(psi, full_matrices=False)\n",
    "        summ = 0\n",
    "        for i in range(len(s)):\n",
    "            mod2 = s[i]*np.conj(s[i])\n",
    "            summ += mod2 * np.log(mod2)\n",
    "        summ = -summ\n",
    "        entr.append(summ)\n",
    "    return entr"
   ]
  },
  {
   "cell_type": "code",
   "execution_count": 9,
   "metadata": {},
   "outputs": [],
   "source": [
    "def printEntr(num):\n",
    "    #entrdiag=[]\n",
    "    #entrsing=[]\n",
    "    #for k in range(N-1):\n",
    "        #rhoin = getrhoin(num,k)\n",
    "        #entrdiag.append(calcEntrdiag(rhoin))\n",
    "        #entrsing.append(calcEntrsing(rhoin))\n",
    "        #print('Entanglement entropy ( position = ',k,'):',np.real(np.around(entrdiag[k],decimals=acc)))\n",
    "        #print('Entanglement entropy ( position = ',k,'):',np.real(entrdiag[k]))\n",
    "    arange = np.arange(N-1)\n",
    "    entr = calcEntrsvd(num)\n",
    "    f = plt.figure(figsize=(18, 10))\n",
    "    #plt.scatter(arange, entrdiag, s=50, marker='o', color='IndianRed')\n",
    "    #diff=[]\n",
    "    #for i in range(N-1):\n",
    "        #diff.append(entrdiag[i] - entrsing[i])\n",
    "    #plt.plot(arange, entrdiag, 'bs',label=\"Entanglement entropy from diagonalized rho_in\")\n",
    "    #plt.plot(arange, diff, 'r^',label=\"The difference between entanglement entropy from diagonalized rho_in and entanglement entropy from singular values matrix of rho_in\")\n",
    "    plt.plot(arange, entr, 'bs')\n",
    "    #plt.legend()\n",
    "    plt.xlabel(\"Position\", fontsize=20)\n",
    "    plt.ylabel(\"Entanglement Entropy\", fontsize=20)\n",
    "    #plt.yscale('log')\n",
    "    plt.axis('tight')\n",
    "    plt.show()"
   ]
  },
  {
   "cell_type": "code",
   "execution_count": 10,
   "metadata": {},
   "outputs": [],
   "source": [
    "def func(loc):\n",
    "    #print('h =',h)\n",
    "    global chi\n",
    "    #### Define Hamiltonian MPO (quantum XX model)\n",
    "    chid = 2\n",
    "    sX = 0.5*np.array([[0, 1], [1, 0]])\n",
    "    sZ = 0.5*np.array([[1, 0], [0,-1]])\n",
    "    sI = np.array([[1, 0], [0, 1]])\n",
    "    M = np.zeros([3,3,chid,chid]);\n",
    "    M[0,0,:,:] = sI\n",
    "    M[1,0,:,:] = sZ\n",
    "    M[2,0,:,:] = h*sZ + g*sX\n",
    "    M[2,1,:,:] = -sZ\n",
    "    M[2,2,:,:] = sI\n",
    "\n",
    "    ML = np.array([0,0,1]).reshape(3,1,1) #left MPO boundary\n",
    "    MR = np.array([1,0,0]).reshape(3,1,1) #right MPO boundary\n",
    "\n",
    "    #### Initialize MPS tensors\n",
    "    A = [0 for x in range(N)]\n",
    "    A[0] = np.random.rand(1,chid,min(chi,chid))\n",
    "    for k in range(1,N):\n",
    "        A[k] = np.random.rand(A[k-1].shape[2],chid,min(min(chi,A[k-1].shape[2]*chid),chid**(N-k-1)))\n",
    "\n",
    "    #### Do DMRG sweeps (2-site approach)\n",
    "    En1, A, sWeight, B = doDMRG_MPO(A,ML,M,MR,chi, numsweeps = OPTS_numsweeps, dispon = OPTS_dispon, updateon = OPTS_updateon, maxit = OPTS_maxit, krydim = OPTS_krydim)\n",
    "\n",
    "    #### Increase bond dim and reconverge\n",
    "    chi = 32;\n",
    "    En2, A, sWeight, B = doDMRG_MPO(A,ML,M,MR,chi, numsweeps = OPTS_numsweeps, dispon = OPTS_dispon, updateon = OPTS_updateon, maxit = OPTS_maxit, krydim = OPTS_krydim)\n",
    "\n",
    "    #printEntr(A)\n",
    "    \n",
    "    mps=createMPS(A)\n",
    "    node = mps[0]\n",
    "    for i in range(1,N):\n",
    "        node = node @ mps[i]\n",
    "    psi = node.tensor\n",
    "    psi = psi.reshape((chid**loc,chid**(N-loc)))\n",
    "    u,s,vh = LA.svd(psi, full_matrices=False)\n",
    "    summ = 0\n",
    "    for i in range(len(s)):\n",
    "        mod2 = s[i]*np.conj(s[i])\n",
    "        summ += mod2 * np.log(mod2)\n",
    "    summ = -summ\n",
    "    return summ"
   ]
  },
  {
   "cell_type": "code",
   "execution_count": 12,
   "metadata": {},
   "outputs": [
    {
     "name": "stdout",
     "output_type": "stream",
     "text": [
      "The length of the Ising spin chain: 12\n",
      "H = - ZZ + hZ + gX\n",
      "Z = 0.5*sigmaZ\n",
      "X = 0.5*sigmaX\n",
      "g = 1.05\n",
      "\n",
      "Entanglement entropy for different values of h:\n",
      "h = 0.0 : 0.08131738140448613\n",
      "h = 0.1 : 0.06777069674145803\n",
      "h = 0.2 : 0.0455953389238118\n",
      "h = 0.3 : 0.029594887666358313\n",
      "h = 0.4 : 0.01964254033017319\n",
      "h = 0.5 : 0.013444491246744834\n",
      "h = 0.6 : 0.009465105007868882\n",
      "h = 0.7 : 0.006826217801092318\n",
      "h = 0.8 : 0.00502509854769146\n",
      "h = 0.9 : 0.003764926715167234\n",
      "h = 1.0 : 0.002864262860837315\n"
     ]
    },
    {
     "data": {
      "image/png": "[encoded data removed]",
      "text/plain": [
       "<Figure size 1296x720 with 1 Axes>"
      ]
     },
     "metadata": {
      "needs_background": "light"
     },
     "output_type": "display_data"
    },
    {
     "name": "stdout",
     "output_type": "stream",
     "text": [
      "h = 0.5\n",
      "\n",
      "Entanglement entropy for different positions:\n",
      "Position =  0 :  0.020884181535073872\n",
      "Position =  1 :  0.015191556419183462\n",
      "Position =  2 :  0.013792863140106575\n",
      "Position =  3 :  0.01350884788807707\n",
      "Position =  4 :  0.013453394214570832\n",
      "Position =  5 :  0.01344448848638674\n",
      "Position =  6 :  0.01345335172065787\n",
      "Position =  7 :  0.013509070622610746\n",
      "Position =  8 :  0.013809489132147485\n",
      "Position =  9 :  0.015192497047748372\n",
      "Position =  10 :  0.020884179367881846\n"
     ]
    },
    {
     "data": {
      "image/png": "[encoded data removed]",
      "text/plain": [
       "<Figure size 1296x720 with 1 Axes>"
      ]
     },
     "metadata": {
      "needs_background": "light"
     },
     "output_type": "display_data"
    }
   ],
   "source": [
    "##### -ZZ+hZ+gX model #############\n",
    "#######################################\n",
    "\n",
    "##### Set bond dimensions and simulation options\n",
    "chi = 16;\n",
    "N = 12;\n",
    "print('The length of the Ising spin chain:',N)\n",
    "print('H = - ZZ + hZ + gX')\n",
    "print('Z = 0.5*sigmaZ')\n",
    "print('X = 0.5*sigmaX')\n",
    "g = 1.05\n",
    "print('g =',g)\n",
    "\n",
    "OPTS_numsweeps = 4 # number of DMRG sweeps\n",
    "OPTS_dispon = 0 # level of output display\n",
    "OPTS_updateon = True # level of output display\n",
    "OPTS_maxit = 2 # iterations of Lanczos method\n",
    "OPTS_krydim = 4 # dimension of Krylov subspace\n",
    "\n",
    "acc = 6\n",
    "\n",
    "print()\n",
    "print('Entanglement entropy for different values of h:')\n",
    "\n",
    "entr = []\n",
    "for it in range(11):\n",
    "    h = it/10\n",
    "    entr.append(func(N//2))\n",
    "    print('h =',h,':',entr[it])\n",
    "    \n",
    "arange = linspace(0, 1, N-1)\n",
    "#print(arange)\n",
    "\n",
    "f = plt.figure(figsize=(18, 10))\n",
    "plt.plot(arange, entr, 'bs')\n",
    "#plt.legend()\n",
    "plt.xlabel(\"h\", fontsize=20)\n",
    "plt.ylabel(\"Entanglement entropy for the central position\", fontsize=20)\n",
    "#plt.yscale('log')\n",
    "plt.axis('tight')\n",
    "plt.show()\n",
    "\n",
    "\n",
    "entrloc = []\n",
    "h=0.5\n",
    "print('h =',h)\n",
    "print()\n",
    "print('Entanglement entropy for different positions:')\n",
    "for it in range(1,N):\n",
    "    entrloc.append(func(it))\n",
    "    print('Position = ', it-1,': ',entrloc[it-1])\n",
    "    \n",
    "arange = np.arange(N-1)\n",
    "#print(arange)\n",
    "\n",
    "ff = plt.figure(figsize=(18, 10))\n",
    "plt.plot(arange, entrloc, 'bs')\n",
    "#plt.legend()\n",
    "plt.xlabel(\"Position\", fontsize=20)\n",
    "plt.ylabel(\"Entanglement entropy\", fontsize=20)\n",
    "#plt.yscale('log')\n",
    "plt.axis('tight')\n",
    "plt.show()"
   ]
  },
  {
   "cell_type": "code",
   "execution_count": null,
   "metadata": {},
   "outputs": [],
   "source": []
  },
  {
   "cell_type": "code",
   "execution_count": null,
   "metadata": {},
   "outputs": [],
   "source": []
  }
 ],
 "metadata": {
  "kernelspec": {
   "display_name": "Python 3",
   "language": "python",
   "name": "python3"
  },
  "language_info": {
   "codemirror_mode": {
    "name": "ipython",
    "version": 3
   },
   "file_extension": ".py",
   "mimetype": "text/x-python",
   "name": "python",
   "nbconvert_exporter": "python",
   "pygments_lexer": "ipython3",
   "version": "3.7.6"
  }
 },
 "nbformat": 4,
 "nbformat_minor": 4
}
