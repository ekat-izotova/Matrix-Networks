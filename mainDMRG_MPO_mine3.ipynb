{
 "cells": [
  {
   "cell_type": "code",
   "execution_count": 13,
   "metadata": {},
   "outputs": [],
   "source": [
    "# -*- coding: utf-8 -*-\n",
    "\"\"\"\n",
    "mainDMRG_MPO.py\n",
    "---------------------------------------------------------------------\n",
    "Script file for initializing the Hamiltonian of a 1D spin chain as an MPO \\\n",
    "before passing to the DMRG routine.\n",
    "\n",
    "    by Glen Evenbly (c) for www.tensors.net, (v1.1) - last modified 19/1/2019\n",
    "\"\"\"\n",
    "\n",
    "#### Preamble\n",
    "import numpy as np\n",
    "from scipy import linalg as LA\n",
    "import matplotlib.pyplot as plt\n",
    "\n",
    "#from ncon import ncon\n",
    "from tensornetwork.ncon_interface import ncon\n",
    "from doDMRG_MPO_mine import doDMRG_MPO\n",
    "\n",
    "import tensornetwork as tn\n",
    "import math\n",
    "from numpy import *"
   ]
  },
  {
   "cell_type": "code",
   "execution_count": 14,
   "metadata": {},
   "outputs": [],
   "source": [
    "def createMPS(num):    \n",
    "    c=[]\n",
    "    for i in range(N):\n",
    "        c.append(tn.Node(num[i]))\n",
    "    for i in range(N-1):\n",
    "        c[i][2] ^ c[i+1][0]\n",
    "    return c"
   ]
  },
  {
   "cell_type": "code",
   "execution_count": 15,
   "metadata": {},
   "outputs": [],
   "source": [
    "def conjMPS(mps):\n",
    "    c=[]\n",
    "    for i in range(N):\n",
    "        c.append(tn.conj(mps[i]))\n",
    "    for i in range(1,N-1):\n",
    "        c[i][2] ^ c[i+1][0]\n",
    "    return c"
   ]
  },
  {
   "cell_type": "code",
   "execution_count": 16,
   "metadata": {},
   "outputs": [],
   "source": [
    "def rightcollapsePsiPsi(mps1,mps2,l):\n",
    "    node = mps1[N-1] @ mps2[N-1]\n",
    "    for i in range(N-2,l-1,-1):\n",
    "        node = mps1[i] @ node\n",
    "        node = node @ mps2[i]\n",
    "    return node.tensor"
   ]
  },
  {
   "cell_type": "code",
   "execution_count": 17,
   "metadata": {},
   "outputs": [],
   "source": [
    "def getrhoin(num,k):\n",
    "    mps2 = createMPS(num)\n",
    "    mps1 = conjMPS(mps2)\n",
    "    for i in range(N):\n",
    "        mps1[i][1] ^ mps2[i][1]\n",
    "    tensor4 = rightcollapsePsiPsi(mps1,mps2,k+1)\n",
    "    if k==N-2:\n",
    "        matrix = tensor4[:,0,:,0]\n",
    "    else:\n",
    "        matrix = tensor4[:,0,0,:]\n",
    "    return matrix"
   ]
  },
  {
   "cell_type": "code",
   "execution_count": 18,
   "metadata": {},
   "outputs": [],
   "source": [
    "def calcEntrdiag(rhoin):\n",
    "    diagrhoin = np.diag(np.diag(rhoin))\n",
    "    lndiagrhoin = LA.logm(diagrhoin)\n",
    "    entr = -np.trace(np.dot(diagrhoin,lndiagrhoin))\n",
    "    return entr"
   ]
  },
  {
   "cell_type": "code",
   "execution_count": 19,
   "metadata": {},
   "outputs": [],
   "source": [
    "def calcEntrsing(rhoin):\n",
    "    u,s,vh = LA.svd(rhoin, full_matrices=False)\n",
    "    smatrix = np.diag(s)\n",
    "    lnsmatrix = LA.logm(smatrix)\n",
    "    entr = -np.trace(np.dot(smatrix,lnsmatrix))\n",
    "    return entr"
   ]
  },
  {
   "cell_type": "code",
   "execution_count": 20,
   "metadata": {},
   "outputs": [],
   "source": [
    "def calcEntrsvd(num):\n",
    "    mps=createMPS(A)\n",
    "    node = mps[0]\n",
    "    for i in range(1,N):\n",
    "        node = node @ mps[i]\n",
    "    psi = node.tensor\n",
    "    entr = []\n",
    "    for k in range(1,N):\n",
    "        psi = psi.reshape((chid**k,chid**(N-k)))\n",
    "        u,s,vh = LA.svd(psi, full_matrices=False)\n",
    "        summ = 0\n",
    "        for i in range(len(s)):\n",
    "            mod2 = s[i]*np.conj(s[i])\n",
    "            summ += mod2 * np.log(mod2)\n",
    "        summ = -summ\n",
    "        entr.append(summ)\n",
    "    return entr"
   ]
  },
  {
   "cell_type": "code",
   "execution_count": 21,
   "metadata": {},
   "outputs": [],
   "source": [
    "def printEntr(num):\n",
    "    #entrdiag=[]\n",
    "    #entrsing=[]\n",
    "    #for k in range(N-1):\n",
    "        #rhoin = getrhoin(num,k)\n",
    "        #entrdiag.append(calcEntrdiag(rhoin))\n",
    "        #entrsing.append(calcEntrsing(rhoin))\n",
    "        #print('Entanglement entropy ( position = ',k,'):',np.real(np.around(entrdiag[k],decimals=acc)))\n",
    "        #print('Entanglement entropy ( position = ',k,'):',np.real(entrdiag[k]))\n",
    "    arange = np.arange(N-1)\n",
    "    entr = calcEntrsvd(num)\n",
    "    f = plt.figure(figsize=(18, 10))\n",
    "    #plt.scatter(arange, entrdiag, s=50, marker='o', color='IndianRed')\n",
    "    #diff=[]\n",
    "    #for i in range(N-1):\n",
    "        #diff.append(entrdiag[i] - entrsing[i])\n",
    "    #plt.plot(arange, entrdiag, 'bs',label=\"Entanglement entropy from diagonalized rho_in\")\n",
    "    #plt.plot(arange, diff, 'r^',label=\"The difference between entanglement entropy from diagonalized rho_in and entanglement entropy from singular values matrix of rho_in\")\n",
    "    plt.plot(arange, entr, 'bs')\n",
    "    #plt.legend()\n",
    "    plt.xlabel(\"Position\", fontsize=20)\n",
    "    plt.ylabel(\"Entanglement Entropy\", fontsize=20)\n",
    "    #plt.yscale('log')\n",
    "    plt.axis('tight')\n",
    "    plt.show()"
   ]
  },
  {
   "cell_type": "code",
   "execution_count": 22,
   "metadata": {},
   "outputs": [],
   "source": [
    "def func():\n",
    "    #print('h =',h)\n",
    "    global chi\n",
    "    #### Define Hamiltonian MPO (quantum XX model)\n",
    "    chid = 2\n",
    "    sX = 0.5*np.array([[0, 1], [1, 0]])\n",
    "    sZ = 0.5*np.array([[1, 0], [0,-1]])\n",
    "    sI = np.array([[1, 0], [0, 1]])\n",
    "    M = np.zeros([3,3,chid,chid]);\n",
    "    M[0,0,:,:] = sI\n",
    "    M[1,0,:,:] = sZ\n",
    "    M[2,0,:,:] = h*sZ + g*sX\n",
    "    M[2,1,:,:] = -sZ\n",
    "    M[2,2,:,:] = sI\n",
    "\n",
    "    ML = np.array([0,0,1]).reshape(3,1,1) #left MPO boundary\n",
    "    MR = np.array([1,0,0]).reshape(3,1,1) #right MPO boundary\n",
    "\n",
    "    #### Initialize MPS tensors\n",
    "    A = [0 for x in range(N)]\n",
    "    A[0] = np.random.rand(1,chid,min(chi,chid))\n",
    "    for k in range(1,N):\n",
    "        A[k] = np.random.rand(A[k-1].shape[2],chid,min(min(chi,A[k-1].shape[2]*chid),chid**(N-k-1)))\n",
    "\n",
    "    #### Do DMRG sweeps (2-site approach)\n",
    "    En1, A, sWeight, B = doDMRG_MPO(A,ML,M,MR,chi, numsweeps = OPTS_numsweeps, dispon = OPTS_dispon, updateon = OPTS_updateon, maxit = OPTS_maxit, krydim = OPTS_krydim)\n",
    "\n",
    "    #### Increase bond dim and reconverge\n",
    "    chi = 32;\n",
    "    En2, A, sWeight, B = doDMRG_MPO(A,ML,M,MR,chi, numsweeps = OPTS_numsweeps, dispon = OPTS_dispon, updateon = OPTS_updateon, maxit = OPTS_maxit, krydim = OPTS_krydim)\n",
    "\n",
    "    #printEntr(A)\n",
    "    \n",
    "    mps=createMPS(A)\n",
    "    node = mps[0]\n",
    "    for i in range(1,N):\n",
    "        node = node @ mps[i]\n",
    "    psi = node.tensor\n",
    "    psi = psi.reshape((chid**(N//2),chid**(N-(N//2))))\n",
    "    u,s,vh = LA.svd(psi, full_matrices=False)\n",
    "    summ = 0\n",
    "    for i in range(len(s)):\n",
    "        mod2 = s[i]*np.conj(s[i])\n",
    "        summ += mod2 * np.log(mod2)\n",
    "    summ = -summ\n",
    "    return summ"
   ]
  },
  {
   "cell_type": "code",
   "execution_count": 30,
   "metadata": {},
   "outputs": [
    {
     "name": "stdout",
     "output_type": "stream",
     "text": [
      "The length of the Ising spin chain: 12\n",
      "H = - ZZ + hZ + gX\n",
      "Z = 0.5*sigmaZ\n",
      "X = 0.5*sigmaX\n",
      "g = 1.05\n",
      "\n",
      "Entanglement entropy for different values of h:\n",
      "h = 0.0 : 0.08131736961676321\n",
      "h = 0.1 : 0.06777071773958758\n",
      "h = 0.2 : 0.04559529482378045\n",
      "h = 0.3 : 0.029594923882937198\n",
      "h = 0.4 : 0.019642565226921975\n",
      "h = 0.5 : 0.013444488367486795\n",
      "h = 0.6 : 0.009465106075390212\n",
      "h = 0.7 : 0.006826215707449871\n",
      "h = 0.8 : 0.005025093233561862\n",
      "h = 0.9 : 0.0037649252634540274\n",
      "h = 1.0 : 0.0028642641843424034\n"
     ]
    },
    {
     "data": {
      "image/png": "[encoded data removed]",
      "text/plain": [
       "<Figure size 1296x720 with 1 Axes>"
      ]
     },
     "metadata": {
      "needs_background": "light"
     },
     "output_type": "display_data"
    }
   ],
   "source": [
    "##### -ZZ+hZ+gX model #############\n",
    "#######################################\n",
    "\n",
    "##### Set bond dimensions and simulation options\n",
    "chi = 16;\n",
    "N = 12;\n",
    "print('The length of the Ising spin chain:',N)\n",
    "print('H = - ZZ + hZ + gX')\n",
    "print('Z = 0.5*sigmaZ')\n",
    "print('X = 0.5*sigmaX')\n",
    "g = 1.05\n",
    "print('g =',g)\n",
    "\n",
    "OPTS_numsweeps = 4 # number of DMRG sweeps\n",
    "OPTS_dispon = 0 # level of output display\n",
    "OPTS_updateon = True # level of output display\n",
    "OPTS_maxit = 2 # iterations of Lanczos method\n",
    "OPTS_krydim = 4 # dimension of Krylov subspace\n",
    "\n",
    "acc = 6\n",
    "\n",
    "print()\n",
    "print('Entanglement entropy for different values of h:')\n",
    "\n",
    "entr = []\n",
    "for it in range(11):\n",
    "    h = it/10\n",
    "    entr.append(func())\n",
    "    print('h =',h,':',entr[it])\n",
    "    \n",
    "arange = linspace(0, 1, N-1)\n",
    "#print(arange)\n",
    "\n",
    "f = plt.figure(figsize=(18, 10))\n",
    "plt.plot(arange, entr, 'bs')\n",
    "#plt.legend()\n",
    "plt.xlabel(\"h\", fontsize=20)\n",
    "plt.ylabel(\"Entanglement entropy for the central position\", fontsize=20)\n",
    "#plt.yscale('log')\n",
    "plt.axis('tight')\n",
    "plt.show()"
   ]
  },
  {
   "cell_type": "code",
   "execution_count": null,
   "metadata": {},
   "outputs": [],
   "source": []
  },
  {
   "cell_type": "code",
   "execution_count": null,
   "metadata": {},
   "outputs": [],
   "source": []
  }
 ],
 "metadata": {
  "kernelspec": {
   "display_name": "Python 3",
   "language": "python",
   "name": "python3"
  },
  "language_info": {
   "codemirror_mode": {
    "name": "ipython",
    "version": 3
   },
   "file_extension": ".py",
   "mimetype": "text/x-python",
   "name": "python",
   "nbconvert_exporter": "python",
   "pygments_lexer": "ipython3",
   "version": "3.7.6"
  }
 },
 "nbformat": 4,
 "nbformat_minor": 4
}
