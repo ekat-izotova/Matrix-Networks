{
 "cells": [
  {
   "cell_type": "code",
   "execution_count": 45,
   "metadata": {},
   "outputs": [],
   "source": [
    "#!/usr/bin/env python\n",
    "import tensornetwork as tn\n",
    "import numpy as np"
   ]
  },
  {
   "cell_type": "code",
   "execution_count": 46,
   "metadata": {},
   "outputs": [],
   "source": [
    "N = 5\n",
    "D = 3\n",
    "p = 2"
   ]
  },
  {
   "cell_type": "code",
   "execution_count": 47,
   "metadata": {},
   "outputs": [
    {
     "name": "stdout",
     "output_type": "stream",
     "text": [
      "[[1. 1. 1.]\n",
      " [1. 1. 1.]]\n",
      "$\n",
      "[[[1. 1. 1.]\n",
      "  [1. 1. 1.]\n",
      "  [1. 1. 1.]]\n",
      "\n",
      " [[1. 1. 1.]\n",
      "  [1. 1. 1.]\n",
      "  [1. 1. 1.]]]\n",
      "$\n",
      "[[[1. 1. 1.]\n",
      "  [1. 1. 1.]\n",
      "  [1. 1. 1.]]\n",
      "\n",
      " [[1. 1. 1.]\n",
      "  [1. 1. 1.]\n",
      "  [1. 1. 1.]]]\n",
      "$\n",
      "[[[1. 1. 1.]\n",
      "  [1. 1. 1.]\n",
      "  [1. 1. 1.]]\n",
      "\n",
      " [[1. 1. 1.]\n",
      "  [1. 1. 1.]\n",
      "  [1. 1. 1.]]]\n",
      "$\n",
      "[[1. 1. 1.]\n",
      " [1. 1. 1.]]\n",
      "$\n"
     ]
    }
   ],
   "source": [
    "#создаем Nodes в массиве (проект первого MPS)\n",
    "a=[]\n",
    "a.append(tn.Node(np.ones((p,D))))\n",
    "for i in range(1,N-1):\n",
    "    a.append(tn.Node(np.ones((p,D,D))))\n",
    "a.append(tn.Node(np.ones((p,D))))\n",
    "for i in range(N):\n",
    "    print(a[i].tensor)\n",
    "    print('$')"
   ]
  },
  {
   "cell_type": "code",
   "execution_count": 48,
   "metadata": {},
   "outputs": [],
   "source": [
    "#соединяем Nodes в цепочку, получаем MPS\n",
    "a[0][1] ^ a[1][1]\n",
    "for i in range (1,N-1):\n",
    "    a[i][2] ^ a[i+1][1]"
   ]
  },
  {
   "cell_type": "code",
   "execution_count": 49,
   "metadata": {},
   "outputs": [
    {
     "name": "stdout",
     "output_type": "stream",
     "text": [
      "[[1. 1. 1.]\n",
      " [1. 1. 1.]]\n",
      "$\n",
      "[[[1. 1. 1.]\n",
      "  [1. 1. 1.]\n",
      "  [1. 1. 1.]]\n",
      "\n",
      " [[1. 1. 1.]\n",
      "  [1. 1. 1.]\n",
      "  [1. 1. 1.]]]\n",
      "$\n",
      "[[[1. 1. 1.]\n",
      "  [1. 1. 1.]\n",
      "  [1. 1. 1.]]\n",
      "\n",
      " [[1. 1. 1.]\n",
      "  [1. 1. 1.]\n",
      "  [1. 1. 1.]]]\n",
      "$\n",
      "[[[1. 1. 1.]\n",
      "  [1. 1. 1.]\n",
      "  [1. 1. 1.]]\n",
      "\n",
      " [[1. 1. 1.]\n",
      "  [1. 1. 1.]\n",
      "  [1. 1. 1.]]]\n",
      "$\n",
      "[[1. 1. 1.]\n",
      " [1. 1. 1.]]\n",
      "$\n"
     ]
    }
   ],
   "source": [
    "#создаем аналогично второй MPS\n",
    "b=[]\n",
    "b.append(tn.Node(np.ones((p,D))))\n",
    "for i in range(1,N-1):\n",
    "    b.append(tn.Node(np.ones((p,D,D))))\n",
    "b.append(tn.Node(np.ones((p,D))))\n",
    "for i in range(N):\n",
    "    print(b[i].tensor)\n",
    "    print('$')"
   ]
  },
  {
   "cell_type": "code",
   "execution_count": 50,
   "metadata": {},
   "outputs": [],
   "source": [
    "#соединяем Nodes в цепочку, получаем второй MPS\n",
    "b[0][1] ^ b[1][1]\n",
    "for i in range (1,N-1):\n",
    "    b[i][2] ^ b[i+1][1]"
   ]
  },
  {
   "cell_type": "code",
   "execution_count": 51,
   "metadata": {},
   "outputs": [],
   "source": [
    "#сшиваем попарно Nodes из a и из b, получаем из двух цепочек одну\n",
    "c=[]\n",
    "for i in range(N):\n",
    "    c.append(tn.contract(a[i][0] ^ b[i][0]))"
   ]
  },
  {
   "cell_type": "code",
   "execution_count": 52,
   "metadata": {},
   "outputs": [],
   "source": [
    "#схлопываем всю цепочку в 1 скаляр\n",
    "d = c[0]\n",
    "for i in range(1,N):\n",
    "    d = d @ c[i]"
   ]
  },
  {
   "cell_type": "code",
   "execution_count": 53,
   "metadata": {},
   "outputs": [
    {
     "name": "stdout",
     "output_type": "stream",
     "text": [
      "209952.0\n"
     ]
    }
   ],
   "source": [
    "print(d.tensor)"
   ]
  },
  {
   "cell_type": "code",
   "execution_count": null,
   "metadata": {},
   "outputs": [],
   "source": []
  }
 ],
 "metadata": {
  "kernelspec": {
   "display_name": "Python 3",
   "language": "python",
   "name": "python3"
  },
  "language_info": {
   "codemirror_mode": {
    "name": "ipython",
    "version": 3
   },
   "file_extension": ".py",
   "mimetype": "text/x-python",
   "name": "python",
   "nbconvert_exporter": "python",
   "pygments_lexer": "ipython3",
   "version": "3.7.4"
  }
 },
 "nbformat": 4,
 "nbformat_minor": 4
}
