{
 "cells": [
  {
   "cell_type": "code",
   "execution_count": 153,
   "metadata": {},
   "outputs": [],
   "source": [
    "#!/usr/bin/env python\n",
    "import tensornetwork as tn\n",
    "import numpy as np"
   ]
  },
  {
   "cell_type": "code",
   "execution_count": 154,
   "metadata": {},
   "outputs": [],
   "source": [
    "N = 5\n",
    "D = 3\n",
    "p = 2\n",
    "k = 3"
   ]
  },
  {
   "cell_type": "code",
   "execution_count": 155,
   "metadata": {},
   "outputs": [
    {
     "name": "stdout",
     "output_type": "stream",
     "text": [
      "[[ 7  9]\n",
      " [ 8 -5]]\n"
     ]
    }
   ],
   "source": [
    "#создаем Node с локальным оператором, который будем вставлять между двух MPSов\n",
    "operator = tn.Node(np.array([[7,9],[8,-5]]))\n",
    "print(operator.tensor)"
   ]
  },
  {
   "cell_type": "code",
   "execution_count": 156,
   "metadata": {},
   "outputs": [
    {
     "name": "stdout",
     "output_type": "stream",
     "text": [
      "[[1. 1. 1.]\n",
      " [1. 1. 1.]]\n",
      "$\n",
      "[[[1. 1. 1.]\n",
      "  [1. 1. 1.]\n",
      "  [1. 1. 1.]]\n",
      "\n",
      " [[1. 1. 1.]\n",
      "  [1. 1. 1.]\n",
      "  [1. 1. 1.]]]\n",
      "$\n",
      "[[[1. 1. 1.]\n",
      "  [1. 1. 1.]\n",
      "  [1. 1. 1.]]\n",
      "\n",
      " [[1. 1. 1.]\n",
      "  [1. 1. 1.]\n",
      "  [1. 1. 1.]]]\n",
      "$\n",
      "[[[1. 1. 1.]\n",
      "  [1. 1. 1.]\n",
      "  [1. 1. 1.]]\n",
      "\n",
      " [[1. 1. 1.]\n",
      "  [1. 1. 1.]\n",
      "  [1. 1. 1.]]]\n",
      "$\n",
      "[[1. 1. 1.]\n",
      " [1. 1. 1.]]\n",
      "$\n"
     ]
    }
   ],
   "source": [
    "#создаем проект первого MPS - массив Node-ов\n",
    "a=[]\n",
    "a.append(tn.Node(np.ones((p,D))))\n",
    "for i in range(1,N-1):\n",
    "    a.append(tn.Node(np.ones((p,D,D))))\n",
    "a.append(tn.Node(np.ones((p,D))))\n",
    "for i in range(N):\n",
    "    print(a[i].tensor)\n",
    "    print('$')"
   ]
  },
  {
   "cell_type": "code",
   "execution_count": 157,
   "metadata": {},
   "outputs": [],
   "source": [
    "#соединяем Nodes в цепочку\n",
    "a[0][1] ^ a[1][1]\n",
    "for i in range (1,N-1):\n",
    "    a[i][2] ^ a[i+1][1]"
   ]
  },
  {
   "cell_type": "code",
   "execution_count": 158,
   "metadata": {},
   "outputs": [
    {
     "name": "stdout",
     "output_type": "stream",
     "text": [
      "[[1. 1. 1.]\n",
      " [1. 1. 1.]]\n",
      "$\n",
      "[[[1. 1. 1.]\n",
      "  [1. 1. 1.]\n",
      "  [1. 1. 1.]]\n",
      "\n",
      " [[1. 1. 1.]\n",
      "  [1. 1. 1.]\n",
      "  [1. 1. 1.]]]\n",
      "$\n",
      "[[[1. 1. 1.]\n",
      "  [1. 1. 1.]\n",
      "  [1. 1. 1.]]\n",
      "\n",
      " [[1. 1. 1.]\n",
      "  [1. 1. 1.]\n",
      "  [1. 1. 1.]]]\n",
      "$\n",
      "[[[1. 1. 1.]\n",
      "  [1. 1. 1.]\n",
      "  [1. 1. 1.]]\n",
      "\n",
      " [[1. 1. 1.]\n",
      "  [1. 1. 1.]\n",
      "  [1. 1. 1.]]]\n",
      "$\n",
      "[[1. 1. 1.]\n",
      " [1. 1. 1.]]\n",
      "$\n"
     ]
    }
   ],
   "source": [
    "#создаем проект второго MPS\n",
    "b=[]\n",
    "b.append(tn.Node(np.ones((p,D))))\n",
    "for i in range(1,N-1):\n",
    "    b.append(tn.Node(np.ones((p,D,D))))\n",
    "b.append(tn.Node(np.ones((p,D))))\n",
    "for i in range(N):\n",
    "    print(b[i].tensor)\n",
    "    print('$')"
   ]
  },
  {
   "cell_type": "code",
   "execution_count": 159,
   "metadata": {},
   "outputs": [],
   "source": [
    "#соединяем Nodes в цепочку\n",
    "b[0][1] ^ b[1][1]\n",
    "for i in range (1,N-1):\n",
    "    b[i][2] ^ b[i+1][1]"
   ]
  },
  {
   "cell_type": "code",
   "execution_count": 160,
   "metadata": {},
   "outputs": [
    {
     "name": "stdout",
     "output_type": "stream",
     "text": [
      "[[[[19. 19. 19.]\n",
      "   [19. 19. 19.]\n",
      "   [19. 19. 19.]]\n",
      "\n",
      "  [[19. 19. 19.]\n",
      "   [19. 19. 19.]\n",
      "   [19. 19. 19.]]\n",
      "\n",
      "  [[19. 19. 19.]\n",
      "   [19. 19. 19.]\n",
      "   [19. 19. 19.]]]\n",
      "\n",
      "\n",
      " [[[19. 19. 19.]\n",
      "   [19. 19. 19.]\n",
      "   [19. 19. 19.]]\n",
      "\n",
      "  [[19. 19. 19.]\n",
      "   [19. 19. 19.]\n",
      "   [19. 19. 19.]]\n",
      "\n",
      "  [[19. 19. 19.]\n",
      "   [19. 19. 19.]\n",
      "   [19. 19. 19.]]]\n",
      "\n",
      "\n",
      " [[[19. 19. 19.]\n",
      "   [19. 19. 19.]\n",
      "   [19. 19. 19.]]\n",
      "\n",
      "  [[19. 19. 19.]\n",
      "   [19. 19. 19.]\n",
      "   [19. 19. 19.]]\n",
      "\n",
      "  [[19. 19. 19.]\n",
      "   [19. 19. 19.]\n",
      "   [19. 19. 19.]]]]\n"
     ]
    }
   ],
   "source": [
    "#попарно сшиваем Nodes двух цепочек (в нужном месте вставляем operator), получаем одну цепочку\n",
    "c=[]\n",
    "for i in range(5):\n",
    "    if i!=k:\n",
    "        c.append(tn.contract(a[i][0] ^ b[i][0]))\n",
    "    else:\n",
    "        a[i][0] ^ operator[0]\n",
    "        b[i][0] ^ operator[1]\n",
    "        x = a[i] @ operator @ b[i]\n",
    "        print(x.tensor)\n",
    "        c.append(x)"
   ]
  },
  {
   "cell_type": "code",
   "execution_count": 161,
   "metadata": {},
   "outputs": [],
   "source": [
    "#схлопываем всю цепочку в скаляр\n",
    "d = c[0]\n",
    "for i in range(1,N):\n",
    "    d = d @ c[i]"
   ]
  },
  {
   "cell_type": "code",
   "execution_count": 162,
   "metadata": {},
   "outputs": [
    {
     "name": "stdout",
     "output_type": "stream",
     "text": [
      "1994544.0\n"
     ]
    }
   ],
   "source": [
    "print(d.tensor)"
   ]
  },
  {
   "cell_type": "code",
   "execution_count": null,
   "metadata": {},
   "outputs": [],
   "source": []
  }
 ],
 "metadata": {
  "kernelspec": {
   "display_name": "Python 3",
   "language": "python",
   "name": "python3"
  },
  "language_info": {
   "codemirror_mode": {
    "name": "ipython",
    "version": 3
   },
   "file_extension": ".py",
   "mimetype": "text/x-python",
   "name": "python",
   "nbconvert_exporter": "python",
   "pygments_lexer": "ipython3",
   "version": "3.7.4"
  }
 },
 "nbformat": 4,
 "nbformat_minor": 4
}
