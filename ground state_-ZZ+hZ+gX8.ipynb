{
 "cells": [
  {
   "cell_type": "code",
   "execution_count": 25,
   "metadata": {},
   "outputs": [],
   "source": [
    "#!/usr/bin/env python\n",
    "\n",
    "from __future__ import division\n",
    "%matplotlib inline\n",
    "\n",
    "import tensornetwork as tn\n",
    "import numpy as np\n",
    "import scipy as sp"
   ]
  },
  {
   "cell_type": "code",
   "execution_count": 26,
   "metadata": {},
   "outputs": [],
   "source": [
    "def genrandarr():\n",
    "    num=[]\n",
    "    num.append(np.random.rand(p,D))\n",
    "    for i in range(1,N-1):\n",
    "        num.append(np.random.rand(p,D,D))\n",
    "    num.append(np.random.rand(p,D))\n",
    "    return num"
   ]
  },
  {
   "cell_type": "code",
   "execution_count": 27,
   "metadata": {},
   "outputs": [],
   "source": [
    "def create2MPSs(num):    \n",
    "    loc1=[]\n",
    "    loc2=[]\n",
    "    for i in range(N):\n",
    "        loc1.append(tn.Node(num[i]))\n",
    "        loc2.append(tn.Node(np.conj(num[i])))\n",
    "    \n",
    "    loc1[0][1] ^ loc1[1][1]\n",
    "    for i in range (1,N-1):\n",
    "        loc1[i][2] ^ loc1[i+1][1]\n",
    "    loc2[0][1] ^ loc2[1][1]\n",
    "    for i in range (1,N-1):\n",
    "        loc2[i][2] ^ loc2[i+1][1]\n",
    "    \n",
    "    return [loc1,loc2]"
   ]
  },
  {
   "cell_type": "code",
   "execution_count": 28,
   "metadata": {},
   "outputs": [],
   "source": [
    "def collapsepartPsiPsi(mps1,mps2,u,v):\n",
    "    y=[]\n",
    "    for i in range(u,v+1):\n",
    "        y.append(mps1[i] @ mps2[i])\n",
    "    z=shrink(y,v-u+1)\n",
    "    return z"
   ]
  },
  {
   "cell_type": "code",
   "execution_count": 29,
   "metadata": {},
   "outputs": [],
   "source": [
    "def collapsepartPsiSigmaSigmaPsi(mps1,mps2,s1,s2,k,u,v):\n",
    "    y=[]\n",
    "    if k!=N-1:\n",
    "        g1=k\n",
    "        g2=k+1\n",
    "    else:\n",
    "        g1=N-1\n",
    "        g2=0\n",
    "    for i in range(u,v+1):\n",
    "        if i!=g1 and i!=g2:\n",
    "            y.append(mps1[i] @ mps2[i])\n",
    "        elif i==g1:\n",
    "            y.append(mps1[i] @ s1 @ mps2[i])\n",
    "        else:\n",
    "            y.append(mps1[i] @ s2 @ mps2[i])\n",
    "    z=shrink(y,v-u+1)\n",
    "    return z"
   ]
  },
  {
   "cell_type": "code",
   "execution_count": 30,
   "metadata": {},
   "outputs": [],
   "source": [
    "def collapsepartPsiSigmaPsi(mps1,mps2,s,k,u,v):\n",
    "    y=[]\n",
    "    for i in range(u,v+1):\n",
    "        if i!=k:\n",
    "            y.append(mps1[i] @ mps2[i])\n",
    "        else:\n",
    "            y.append(mps1[i] @ s @ mps2[i])\n",
    "    z=shrink(y,v-u+1)\n",
    "    return z"
   ]
  },
  {
   "cell_type": "code",
   "execution_count": 31,
   "metadata": {},
   "outputs": [],
   "source": [
    "def shrink(mps,length):\n",
    "    if length!=0: #можно убрать, т.к. вызываем shrink только в таком случае\n",
    "        res = mps[0]\n",
    "        for i in range(1,length):\n",
    "            res = res @ mps[i]\n",
    "        return res"
   ]
  },
  {
   "cell_type": "code",
   "execution_count": 32,
   "metadata": {},
   "outputs": [],
   "source": [
    "def createSigmaNode(ind):\n",
    "    if ind==0:\n",
    "        sigmanode = tn.Node(np.array([[1,0],[0,1]],dtype=np.complex_))\n",
    "    elif ind==1:\n",
    "        sigmanode = tn.Node(np.array([[0,1],[1,0]],dtype=np.complex_))\n",
    "    elif ind==2:\n",
    "        sigmanode = tn.Node(np.array([[0,-1j],[1j,0]],dtype=np.complex_))\n",
    "    elif ind==3:\n",
    "        sigmanode = tn.Node(np.array([[1,0],[0,-1]],dtype=np.complex_))\n",
    "    return sigmanode"
   ]
  },
  {
   "cell_type": "code",
   "execution_count": 33,
   "metadata": {},
   "outputs": [],
   "source": [
    "def createPsiSigmaSigmaPsi(num,ind,k):\n",
    "    s1 = createSigmaNode(ind)\n",
    "    s2 = createSigmaNode(ind)\n",
    "    mpss=create2MPSs(num)\n",
    "    mps1=mpss[0]\n",
    "    mps2=mpss[1]\n",
    "    if k!=N-1:\n",
    "        g1=k\n",
    "        g2=k+1\n",
    "    else:\n",
    "        g1=N-1\n",
    "        g2=0\n",
    "    for i in range(N):\n",
    "        if i!=g1 and i!=g2:\n",
    "            mps1[i][0] ^ mps2[i][0]\n",
    "        elif i==g1:\n",
    "            mps1[i][0] ^ s1[0]\n",
    "            s1[1] ^ mps2[i][0]\n",
    "        else:\n",
    "            mps1[i][0] ^ s2[0]\n",
    "            s2[1] ^ mps2[i][0]\n",
    "    return [mps1,mps2,s1,s2]"
   ]
  },
  {
   "cell_type": "code",
   "execution_count": 34,
   "metadata": {},
   "outputs": [],
   "source": [
    "def createPsiSigmaPsi(num,ind,k):\n",
    "    s = createSigmaNode(ind)\n",
    "    mpss=create2MPSs(num)\n",
    "    mps1=mpss[0]\n",
    "    mps2=mpss[1]\n",
    "    for i in range(N):\n",
    "        if i!=k:\n",
    "            mps1[i][0] ^ mps2[i][0]\n",
    "        else:\n",
    "            mps1[i][0] ^ s[0]\n",
    "            s[1] ^ mps2[i][0]\n",
    "    return [mps1,mps2,s]"
   ]
  },
  {
   "cell_type": "code",
   "execution_count": 35,
   "metadata": {},
   "outputs": [],
   "source": [
    "def createPsiPsi(num):\n",
    "    mpss=create2MPSs(num)\n",
    "    mps1=mpss[0]\n",
    "    mps2=mpss[1]\n",
    "    for i in range(N):\n",
    "        mps1[i][0] ^ mps2[i][0]\n",
    "    return [mps1,mps2]"
   ]
  },
  {
   "cell_type": "code",
   "execution_count": 36,
   "metadata": {},
   "outputs": [],
   "source": [
    "def separateAfromPsiPsi(mps1,mps2,l):\n",
    "    AA=mps1[l].tensor\n",
    "    BB=mps2[l].tensor\n",
    "    iden=np.identity(p,dtype=np.complex_)\n",
    "    if l==0:\n",
    "        r = collapsepartPsiPsi(mps1,mps2,1,N-1)\n",
    "        bb=r.tensor\n",
    "        return vecmatrveccorner(AA,BB,iden,bb)\n",
    "    elif l==N-1:\n",
    "        r = collapsepartPsiPsi(mps1,mps2,0,N-2)\n",
    "        aa=r.tensor\n",
    "        return vecmatrveccorner(AA,BB,iden,aa)\n",
    "    else:\n",
    "        r1 = collapsepartPsiPsi(mps1,mps2,0,l-1)\n",
    "        r2 = collapsepartPsiPsi(mps1,mps2,l+1,N-1)\n",
    "        aa=r1.tensor\n",
    "        cc=r2.tensor\n",
    "        return vecmatrvecmiddle(AA,BB,iden,aa,cc)"
   ]
  },
  {
   "cell_type": "code",
   "execution_count": 37,
   "metadata": {},
   "outputs": [],
   "source": [
    "def separateAfromPsiSigmaSigmaPsi(mps1,mps2,s1,s2,k,l):\n",
    "    if k!=N-1:\n",
    "        g1=k\n",
    "        g2=k+1\n",
    "    else:\n",
    "        g1=N-1\n",
    "        g2=0\n",
    "    AA=mps1[l].tensor\n",
    "    BB=mps2[l].tensor\n",
    "    if g1==l:            \n",
    "        op=s1.tensor\n",
    "    elif g2==l:\n",
    "        op=s2.tensor\n",
    "    else:\n",
    "        op=np.identity(p,dtype=np.complex_)\n",
    "    \n",
    "    if l==0:\n",
    "        r = collapsepartPsiSigmaSigmaPsi(mps1,mps2,s1,s2,k,1,N-1)\n",
    "        bb=r.tensor\n",
    "        return vecmatrveccorner(AA,BB,op,bb)\n",
    "    elif l==N-1:\n",
    "        r = collapsepartPsiSigmaSigmaPsi(mps1,mps2,s1,s2,k,0,N-2)\n",
    "        aa=r.tensor\n",
    "        return vecmatrveccorner(AA,BB,op,aa)\n",
    "    else:\n",
    "        r1 = collapsepartPsiSigmaSigmaPsi(mps1,mps2,s1,s2,k,0,l-1)\n",
    "        r2 = collapsepartPsiSigmaSigmaPsi(mps1,mps2,s1,s2,k,l+1,N-1)\n",
    "        aa=r1.tensor\n",
    "        cc=r2.tensor\n",
    "        return vecmatrvecmiddle(AA,BB,op,aa,cc)"
   ]
  },
  {
   "cell_type": "code",
   "execution_count": 38,
   "metadata": {},
   "outputs": [],
   "source": [
    "def separateAfromPsiSigmaPsi(mps1,mps2,s,k,l):\n",
    "    AA=mps1[l].tensor\n",
    "    BB=mps2[l].tensor\n",
    "    if k==l:            \n",
    "        op=s.tensor\n",
    "    else:\n",
    "        op=np.identity(p,dtype=np.complex_)\n",
    "    \n",
    "    if l==0:\n",
    "        r = collapsepartPsiSigmaPsi(mps1,mps2,s,k,1,N-1)\n",
    "        bb=r.tensor\n",
    "        return vecmatrveccorner(AA,BB,op,bb)\n",
    "    elif l==N-1:\n",
    "        r = collapsepartPsiSigmaPsi(mps1,mps2,s,k,0,N-2)\n",
    "        aa=r.tensor\n",
    "        return vecmatrveccorner(AA,BB,op,aa)\n",
    "    else:\n",
    "        r1 = collapsepartPsiSigmaPsi(mps1,mps2,s,k,0,l-1)\n",
    "        r2 = collapsepartPsiSigmaPsi(mps1,mps2,s,k,l+1,N-1)\n",
    "        aa=r1.tensor\n",
    "        cc=r2.tensor\n",
    "        return vecmatrvecmiddle(AA,BB,op,aa,cc)"
   ]
  },
  {
   "cell_type": "code",
   "execution_count": 39,
   "metadata": {},
   "outputs": [],
   "source": [
    "def vecmatrvecmiddle(A,B,a0,a1,a2):\n",
    "    q=D*p*D\n",
    "    F = np.zeros(q,dtype=np.complex_)\n",
    "    G = np.zeros((q,q),dtype=np.complex_)\n",
    "    H = np.zeros(q,dtype=np.complex_)\n",
    "    I=0\n",
    "    J=0\n",
    "    for i in range(p):\n",
    "        for j in range(D):\n",
    "            for k in range(D):\n",
    "                F[I] = A[i][j][k]\n",
    "                H[I] = B[i][j][k]\n",
    "                for l in range(p):\n",
    "                    for m in range(D):\n",
    "                        for n in range(D):\n",
    "                            G[I][J] = a0[i][l]*a1[j][m]*a2[k][n]\n",
    "                            J=J+1\n",
    "                I=I+1\n",
    "                J=0\n",
    "    return [F,G,H]"
   ]
  },
  {
   "cell_type": "code",
   "execution_count": 40,
   "metadata": {},
   "outputs": [],
   "source": [
    "def vecmatrveccorner(A,B,a0,a1):\n",
    "    q=p*D\n",
    "    F = np.zeros(q,dtype=np.complex_)\n",
    "    G = np.zeros((q,q),dtype=np.complex_)\n",
    "    H = np.zeros(q,dtype=np.complex_)\n",
    "    I=0\n",
    "    J=0\n",
    "    for i in range(p):\n",
    "        for j in range(D):\n",
    "            F[I] = A[i][j]\n",
    "            H[I] = B[i][j]\n",
    "            for l in range(p):\n",
    "                for m in range(D):\n",
    "                    G[I][J] = a0[i][l]*a1[j][m]\n",
    "                    J=J+1\n",
    "            I=I+1\n",
    "            J=0\n",
    "    return [F,G,H]"
   ]
  },
  {
   "cell_type": "code",
   "execution_count": 41,
   "metadata": {},
   "outputs": [],
   "source": [
    "def getHeff(m,l):\n",
    "    if l==0 or l==N-1:\n",
    "        q=p*D\n",
    "    else:\n",
    "        q=D*p*D\n",
    "    G = np.zeros((q,q),dtype=np.complex_)\n",
    "    for k in range(N):\n",
    "        pzzp=createPsiSigmaSigmaPsi(m,3,k)\n",
    "        pzp=createPsiSigmaPsi(m,3,k)\n",
    "        pxp=createPsiSigmaPsi(m,1,k)\n",
    "        tzz=separateAfromPsiSigmaSigmaPsi(pzzp[0],pzzp[1],pzzp[2],pzzp[3],k,l)\n",
    "        tz=separateAfromPsiSigmaPsi(pzp[0],pzp[1],pzp[2],k,l)\n",
    "        tx=separateAfromPsiSigmaPsi(pxp[0],pxp[1],pxp[2],k,l)\n",
    "        G = G - tzz[1] + h*tz[1] + g*tx[1]\n",
    "    return G"
   ]
  },
  {
   "cell_type": "code",
   "execution_count": 42,
   "metadata": {},
   "outputs": [],
   "source": [
    "def getNop(m,l):\n",
    "    q=D*p*D\n",
    "    pp=createPsiPsi(m)\n",
    "    t=separateAfromPsiPsi(pp[0],pp[1],l)\n",
    "    return [t[0],t[1]]"
   ]
  },
  {
   "cell_type": "code",
   "execution_count": 43,
   "metadata": {},
   "outputs": [],
   "source": [
    "def Avectomatr(vec,l):\n",
    "    I=0\n",
    "    if l==0 or l==N-1:\n",
    "        matr = np.zeros((p,D),dtype=np.complex_)\n",
    "        for i in range(p):\n",
    "            for j in range(D):\n",
    "                matr[i][j]=vec[I]\n",
    "                I=I+1\n",
    "    else:\n",
    "        matr = np.zeros((p,D,D),dtype=np.complex_)\n",
    "        for i in range(p):\n",
    "            for j in range(D):\n",
    "                for k in range(D):\n",
    "                    matr[i][j][k]=vec[I]\n",
    "                    I=I+1\n",
    "    return matr"
   ]
  },
  {
   "cell_type": "code",
   "execution_count": 44,
   "metadata": {},
   "outputs": [],
   "source": [
    "def calcEnergy(num):\n",
    "    E = 0\n",
    "    for k in range(N):        \n",
    "        pzzp=createPsiSigmaSigmaPsi(num,3,k)\n",
    "        pzp=createPsiSigmaPsi(num,3,k)\n",
    "        pxp=createPsiSigmaPsi(num,1,k)\n",
    "        tzz=collapsepartPsiSigmaSigmaPsi(pzzp[0],pzzp[1],pzzp[2],pzzp[3],k,0,N-1)\n",
    "        tz=collapsepartPsiSigmaPsi(pzp[0],pzp[1],pzp[2],k,0,N-1)\n",
    "        tx=collapsepartPsiSigmaPsi(pxp[0],pxp[1],pxp[2],k,0,N-1)\n",
    "        E = E - tzz.tensor + h*tz.tensor + g*tx.tensor\n",
    "    return E"
   ]
  },
  {
   "cell_type": "code",
   "execution_count": 45,
   "metadata": {},
   "outputs": [],
   "source": [
    "N = 12 #длина цепочки\n",
    "D = 1 #bond index\n",
    "p = 2 #выходящий индекс\n",
    "itnum = 10000 #число итераций для нахождения ground state\n",
    "avnum = 3"
   ]
  },
  {
   "cell_type": "code",
   "execution_count": 46,
   "metadata": {},
   "outputs": [],
   "source": [
    "g = 1.05"
   ]
  },
  {
   "cell_type": "code",
   "execution_count": null,
   "metadata": {},
   "outputs": [
    {
     "name": "stdout",
     "output_type": "stream",
     "text": [
      "h = 0\n",
      "En = (-2.077499999999996+0j)\n",
      "h = 0.1\n",
      "En = (-0.21987959405813007+0j)\n",
      "h = 0.2\n",
      "En = (1.8000000000000014+0j)\n",
      "h = 0.30000000000000004\n",
      "En = (4.122496783422224+0j)\n",
      "h = 0.4\n",
      "En = (-3.5263686417938773+0j)\n",
      "h = 0.5\n",
      "En = (0.9351206631223583+0j)\n",
      "h = 0.6\n",
      "En = (-0.6170797476084959+0j)\n",
      "h = 0.7\n",
      "En = (-2.1730307067897625+0j)\n",
      "h = 0.7999999999999999\n",
      "En = (2.815729163563857+0j)\n",
      "h = 0.8999999999999999\n",
      "En = (1.3254856744954382+0j)\n",
      "h = 0.9999999999999999\n",
      "En = (4.384650126025523+0j)\n",
      "h = 0\n",
      "En = (-2.077499999999996+0j)\n",
      "h = 0.1\n",
      "En = (-0.21987959405812985+0j)\n",
      "h = 0.2\n",
      "En = (1.8000000000000003+0j)\n",
      "h = 0.30000000000000004\n",
      "En = (4.1224967834222275+0j)\n",
      "h = 0.4\n",
      "En = (-3.570394289351608+0j)\n",
      "h = 0.5\n",
      "En = (-0.9931273204198892+0j)\n",
      "h = 0.6\n",
      "En = (-0.6110346201112321+0j)\n",
      "h = 0.7\n",
      "En = (0.1620939195045168+0j)\n",
      "h = 0.7999999999999999\n",
      "En = (2.8393491327086395+0j)\n",
      "h = 0.8999999999999999\n",
      "En = (3.55747391577484+0j)\n",
      "h = 0.9999999999999999\n"
     ]
    }
   ],
   "source": [
    "for a in range(avnum):\n",
    "    h = 0\n",
    "    for ii in range(11):\n",
    "        print('h =',h)\n",
    "        m=genrandarr()\n",
    "        for i in range(itnum):\n",
    "            aloc=np.random.randint(N)\n",
    "            e=getNop(m,aloc)\n",
    "            A=e[0]\n",
    "            Nop=e[1]\n",
    "            Heff=getHeff(m,aloc)\n",
    "            u=sp.linalg.eig(Heff,Nop)[1][0]\n",
    "            v=Avectomatr(u,aloc)\n",
    "            m[aloc]=v\n",
    "        EnCur = calcEnergy(m)\n",
    "        print('En =',EnCur)\n",
    "        h=h+0.1"
   ]
  },
  {
   "cell_type": "code",
   "execution_count": null,
   "metadata": {},
   "outputs": [],
   "source": []
  }
 ],
 "metadata": {
  "kernelspec": {
   "display_name": "Python 3",
   "language": "python",
   "name": "python3"
  },
  "language_info": {
   "codemirror_mode": {
    "name": "ipython",
    "version": 3
   },
   "file_extension": ".py",
   "mimetype": "text/x-python",
   "name": "python",
   "nbconvert_exporter": "python",
   "pygments_lexer": "ipython3",
   "version": "3.7.5"
  }
 },
 "nbformat": 4,
 "nbformat_minor": 4
}
