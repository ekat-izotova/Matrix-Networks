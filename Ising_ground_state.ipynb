{
 "cells": [
  {
   "cell_type": "code",
   "execution_count": 345,
   "metadata": {},
   "outputs": [],
   "source": [
    "#!/usr/bin/env python\n",
    "import tensornetwork as tn\n",
    "import numpy as np\n",
    "import scipy as sp"
   ]
  },
  {
   "cell_type": "code",
   "execution_count": 346,
   "metadata": {},
   "outputs": [],
   "source": [
    "#создать рандомный массив для будущей MPS\n",
    "def genrandarr():\n",
    "    num=[]\n",
    "    num.append(np.random.rand(p,D))\n",
    "    for i in range(1,N-1):\n",
    "        num.append(np.random.rand(p,D,D))\n",
    "    num.append(np.random.rand(p,D))\n",
    "    return num"
   ]
  },
  {
   "cell_type": "code",
   "execution_count": 347,
   "metadata": {},
   "outputs": [],
   "source": [
    "#создать две сопряженные друг другу MPS-цепочки\n",
    "def create2MPSs(num):    \n",
    "    loc1=[]\n",
    "    loc2=[]\n",
    "    for i in range(N):\n",
    "        loc1.append(tn.Node(num[i]))\n",
    "        loc2.append(tn.Node(np.conj(num[i])))\n",
    "    \n",
    "    loc1[0][1] ^ loc1[1][1]\n",
    "    for i in range (1,N-1):\n",
    "        loc1[i][2] ^ loc1[i+1][1]\n",
    "    loc2[0][1] ^ loc2[1][1]\n",
    "    for i in range (1,N-1):\n",
    "        loc2[i][2] ^ loc2[i+1][1]\n",
    "    \n",
    "    return [loc1,loc2]"
   ]
  },
  {
   "cell_type": "code",
   "execution_count": 348,
   "metadata": {},
   "outputs": [],
   "source": [
    "#кусок двойной цепочки PsiPsi превратить в 1 Node\n",
    "def collapsepartPsiPsi(mps1,mps2,u,v):\n",
    "    y=[]\n",
    "    for i in range(u,v+1):\n",
    "        y.append(mps1[i] @ mps2[i])\n",
    "    z=shrink(y,v-u+1)\n",
    "    return z"
   ]
  },
  {
   "cell_type": "code",
   "execution_count": 349,
   "metadata": {},
   "outputs": [],
   "source": [
    "#кусок двойной цепочки PsiHPsi (с вставленными операторами между ними) превратить в 1 Node\n",
    "def collapsepartPsiHPsi(mps1,mps2,s1,s2,k,u,v):\n",
    "    y=[]\n",
    "    if k!=N-1:\n",
    "        g1=k\n",
    "        g2=k+1\n",
    "    else:\n",
    "        g1=N-1\n",
    "        g2=0\n",
    "    for i in range(u,v+1):\n",
    "        if i!=g1 and i!=g2:\n",
    "            y.append(mps1[i] @ mps2[i])\n",
    "        elif i==g1:\n",
    "            y.append(mps1[i] @ s1 @ mps2[i])\n",
    "        else:\n",
    "            y.append(mps1[i] @ s2 @ mps2[i])\n",
    "    z=shrink(y,v-u+1)\n",
    "    return z"
   ]
  },
  {
   "cell_type": "code",
   "execution_count": 350,
   "metadata": {},
   "outputs": [],
   "source": [
    "#сжать одну цепочку в 1 Node\n",
    "def shrink(mps,length):\n",
    "    if length!=0: #можно убрать, т.к. вызываем shrink только в таком случае\n",
    "        res = mps[0]\n",
    "        for i in range(1,length):\n",
    "            res = res @ mps[i]\n",
    "        return res"
   ]
  },
  {
   "cell_type": "code",
   "execution_count": 351,
   "metadata": {},
   "outputs": [],
   "source": [
    "#создать Node с оператором sigma3 внутри\n",
    "def createSigma3Node():\n",
    "    sigma3node = tn.Node(np.array([[1,0],[0,-1]]))\n",
    "    return sigma3node"
   ]
  },
  {
   "cell_type": "code",
   "execution_count": 352,
   "metadata": {},
   "outputs": [],
   "source": [
    "#создать двойную цепочку с двумя соседними операторами sigma3 внутри (часть гамильтониана Изинга, только с другим знаком)\n",
    "def createPsiHPsi(num,k):\n",
    "    s1 = createSigma3Node()\n",
    "    s2 = createSigma3Node()\n",
    "    mpss=create2MPSs(num)\n",
    "    mps1=mpss[0]\n",
    "    mps2=mpss[1]\n",
    "    if k!=N-1:\n",
    "        g1=k\n",
    "        g2=k+1\n",
    "    else:\n",
    "        g1=N-1\n",
    "        g2=0\n",
    "    for i in range(N):\n",
    "        if i!=g1 and i!=g2:\n",
    "            mps1[i][0] ^ mps2[i][0]\n",
    "        elif i==g1:\n",
    "            mps1[i][0] ^ s1[0]\n",
    "            s1[1] ^ mps2[i][0]\n",
    "        else:\n",
    "            mps1[i][0] ^ s2[0]\n",
    "            s2[1] ^ mps2[i][0]\n",
    "    return [mps1,mps2,s1,s2]"
   ]
  },
  {
   "cell_type": "code",
   "execution_count": 353,
   "metadata": {},
   "outputs": [],
   "source": [
    "#создать двойную цепочку PsiPsi\n",
    "def createPsiPsi(num):\n",
    "    mpss=create2MPSs(num)\n",
    "    mps1=mpss[0]\n",
    "    mps2=mpss[1]\n",
    "    for i in range(N):\n",
    "        mps1[i][0] ^ mps2[i][0]\n",
    "    return [mps1,mps2]"
   ]
  },
  {
   "cell_type": "code",
   "execution_count": 354,
   "metadata": {},
   "outputs": [],
   "source": [
    "#выделить из верхней цепочки вершину A, из нижней цепочки - вершину A*. и всё остальное. превратить это в [вектор, вектор, матрица]\n",
    "def separateAfromPsiPsi(mps1,mps2,l):\n",
    "    AA=mps1[l].tensor\n",
    "    BB=mps2[l].tensor\n",
    "    iden=np.identity(p)\n",
    "    if l==0:\n",
    "        r = collapsepartPsiPsi(mps1,mps2,1,N-1)\n",
    "        bb=r.tensor\n",
    "        return vecmatrveccorner(AA,BB,iden,bb)\n",
    "    elif l==N-1:\n",
    "        r = collapsepartPsiPsi(mps1,mps2,0,N-2)\n",
    "        aa=r.tensor\n",
    "        return vecmatrveccorner(AA,BB,iden,aa)\n",
    "    else:\n",
    "        r1 = collapsepartPsiPsi(mps1,mps2,0,l-1)\n",
    "        r2 = collapsepartPsiPsi(mps1,mps2,l+1,N-1)\n",
    "        aa=r1.tensor\n",
    "        cc=r2.tensor\n",
    "        return vecmatrvecmiddle(AA,BB,iden,aa,cc)"
   ]
  },
  {
   "cell_type": "code",
   "execution_count": 355,
   "metadata": {},
   "outputs": [],
   "source": [
    "#выделить из верхней цепочки вершину A, из нижней цепочки - вершину A*. и всё остальное. превратить это в [вектор, вектор, матрица]\n",
    "def separateAfromPsiHPsi(mps1,mps2,s1,s2,k,l):\n",
    "    if k!=N-1:\n",
    "        g1=k\n",
    "        g2=k+1\n",
    "    else:\n",
    "        g1=N-1\n",
    "        g2=0\n",
    "    AA=mps1[l].tensor\n",
    "    BB=mps2[l].tensor\n",
    "    if g1==l:            \n",
    "        op=s1.tensor\n",
    "    elif g2==l:\n",
    "        op=s2.tensor\n",
    "    else:\n",
    "        op=np.identity(p)\n",
    "    \n",
    "    if l==0:\n",
    "        r = collapsepartPsiHPsi(mps1,mps2,s1,s2,k,1,N-1)\n",
    "        bb=r.tensor\n",
    "        return vecmatrveccorner(AA,BB,op,bb)\n",
    "    elif l==N-1:\n",
    "        r = collapsepartPsiHPsi(mps1,mps2,s1,s2,k,0,N-2)\n",
    "        aa=r.tensor\n",
    "        return vecmatrveccorner(AA,BB,op,aa)\n",
    "    else:\n",
    "        r1 = collapsepartPsiHPsi(mps1,mps2,s1,s2,k,0,l-1)\n",
    "        r2 = collapsepartPsiHPsi(mps1,mps2,s1,s2,k,l+1,N-1)\n",
    "        aa=r1.tensor\n",
    "        cc=r2.tensor\n",
    "        return vecmatrvecmiddle(AA,BB,op,aa,cc)"
   ]
  },
  {
   "cell_type": "code",
   "execution_count": 356,
   "metadata": {},
   "outputs": [],
   "source": [
    "#превращение двух вершин и трех операторов между ними в [вектор, вектор, матрица]\n",
    "def vecmatrvecmiddle(A,B,a0,a1,a2):\n",
    "    q=D*p*D\n",
    "    F = np.zeros(q)\n",
    "    G = np.zeros((q,q))\n",
    "    H = np.zeros(q)\n",
    "    I=0\n",
    "    J=0\n",
    "    for i in range(p):\n",
    "        for j in range(D):\n",
    "            for k in range(D):\n",
    "                F[I] = A[i][j][k]\n",
    "                H[I] = B[i][j][k]\n",
    "                for l in range(p):\n",
    "                    for m in range(D):\n",
    "                        for n in range(D):\n",
    "                            G[I][J] = a0[i][l]*a1[j][m]*a2[k][n]\n",
    "                            J=J+1\n",
    "                I=I+1\n",
    "                J=0\n",
    "    return [F,G,H]"
   ]
  },
  {
   "cell_type": "code",
   "execution_count": 357,
   "metadata": {},
   "outputs": [],
   "source": [
    "#превращение двух вершин и двух операторов между ними в [вектор, вектор, матрица] - происходит на краю цепочек\n",
    "def vecmatrveccorner(A,B,a0,a1):\n",
    "    q=p*D\n",
    "    F = np.zeros(q)\n",
    "    G = np.zeros((q,q))\n",
    "    H = np.zeros(q)\n",
    "    I=0\n",
    "    J=0\n",
    "    for i in range(p):\n",
    "        for j in range(D):\n",
    "            F[I] = A[i][j]\n",
    "            H[I] = B[i][j]\n",
    "            for l in range(p):\n",
    "                for m in range(D):\n",
    "                    G[I][J] = a0[i][l]*a1[j][m]\n",
    "                    J=J+1\n",
    "            I=I+1\n",
    "            J=0\n",
    "    return [F,G,H]"
   ]
  },
  {
   "cell_type": "code",
   "execution_count": 358,
   "metadata": {},
   "outputs": [],
   "source": [
    "#получить Heff\n",
    "def getHeff(m,l):\n",
    "    if l==0 or l==N-1:\n",
    "        q=p*D\n",
    "    else:\n",
    "        q=D*p*D\n",
    "    G = np.zeros((q,q))\n",
    "    for k in range(N):\n",
    "        php=createPsiHPsi(m,k)\n",
    "        t=separateAfromPsiHPsi(php[0],php[1],php[2],php[3],k,l)\n",
    "        G += t[1]\n",
    "    return -G"
   ]
  },
  {
   "cell_type": "code",
   "execution_count": 359,
   "metadata": {},
   "outputs": [],
   "source": [
    "#получить N\n",
    "def getNop(m,l):\n",
    "    q=D*p*D\n",
    "    pp=createPsiPsi(m)\n",
    "    t=separateAfromPsiPsi(pp[0],pp[1],l)\n",
    "    return [t[0],t[1]]"
   ]
  },
  {
   "cell_type": "code",
   "execution_count": 360,
   "metadata": {},
   "outputs": [],
   "source": [
    "#превратить полученный вектор A в матрицу (чтобы затем ее вставить в цепочку вместо старого A)\n",
    "def Avectomatr(vec,l):\n",
    "    I=0\n",
    "    if l==0 or l==N-1:\n",
    "        matr = np.zeros((p,D))\n",
    "        for i in range(p):\n",
    "            for j in range(D):\n",
    "                matr[i][j]=vec[I]\n",
    "                I=I+1\n",
    "    else:\n",
    "        matr = np.zeros((p,D,D))\n",
    "        for i in range(p):\n",
    "            for j in range(D):\n",
    "                for k in range(D):\n",
    "                    matr[i][j][k]=vec[I]\n",
    "                    I=I+1\n",
    "    return matr"
   ]
  },
  {
   "cell_type": "code",
   "execution_count": 361,
   "metadata": {},
   "outputs": [],
   "source": [
    "#посчитать энергию\n",
    "def calcEnergy(num):\n",
    "    E = 0\n",
    "    for k in range(N):\n",
    "        php=createPsiHPsi(num,k)\n",
    "        t=collapsepartPsiHPsi(php[0],php[1],php[2],php[3],k,0,N-1)\n",
    "        E -= t.tensor\n",
    "    return E"
   ]
  },
  {
   "cell_type": "code",
   "execution_count": 362,
   "metadata": {},
   "outputs": [],
   "source": [
    "N = 7 #длина цепочки\n",
    "D = 3 #bond index\n",
    "p = 2 #выходящий индекс\n",
    "itnum = 1000 #число итераций для нахождения ground state"
   ]
  },
  {
   "cell_type": "code",
   "execution_count": 363,
   "metadata": {},
   "outputs": [],
   "source": [
    "m=genrandarr()"
   ]
  },
  {
   "cell_type": "code",
   "execution_count": 364,
   "metadata": {},
   "outputs": [
    {
     "name": "stderr",
     "output_type": "stream",
     "text": [
      "/home/ekaterina/anaconda3/lib/python3.7/site-packages/ipykernel_launcher.py:8: ComplexWarning: Casting complex values to real discards the imaginary part\n",
      "  \n"
     ]
    }
   ],
   "source": [
    "for i in range(itnum):\n",
    "    aloc=np.random.randint(N)\n",
    "    e=getNop(m,aloc)\n",
    "    A=e[0]\n",
    "    Nop=e[1]\n",
    "    Heff=getHeff(m,aloc)\n",
    "    u=sp.linalg.eig(Heff,Nop)[1][0]\n",
    "    v=Avectomatr(u,aloc)\n",
    "    m[aloc]=v"
   ]
  },
  {
   "cell_type": "code",
   "execution_count": 365,
   "metadata": {},
   "outputs": [
    {
     "name": "stdout",
     "output_type": "stream",
     "text": [
      "-7.0\n"
     ]
    }
   ],
   "source": [
    "En = calcEnergy(m)\n",
    "print(En)"
   ]
  },
  {
   "cell_type": "code",
   "execution_count": null,
   "metadata": {},
   "outputs": [],
   "source": []
  }
 ],
 "metadata": {
  "kernelspec": {
   "display_name": "Python 3",
   "language": "python",
   "name": "python3"
  },
  "language_info": {
   "codemirror_mode": {
    "name": "ipython",
    "version": 3
   },
   "file_extension": ".py",
   "mimetype": "text/x-python",
   "name": "python",
   "nbconvert_exporter": "python",
   "pygments_lexer": "ipython3",
   "version": "3.7.4"
  }
 },
 "nbformat": 4,
 "nbformat_minor": 4
}
